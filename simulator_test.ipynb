{
 "cells": [
  {
   "cell_type": "markdown",
   "metadata": {},
   "source": [
    "# Set up env"
   ]
  },
  {
   "cell_type": "code",
   "execution_count": 3,
   "metadata": {},
   "outputs": [],
   "source": [
    "import carla\n",
    "import numpy as np\n",
    "from src.simulator import Simulator\n",
    "from src.agent import NCPAgent\n",
    "from src.model import Model\n",
    "\n",
    "import torchvision\n",
    "from IPython.display import display\n",
    "import sys\n",
    "import os\n",
    "import torch\n",
    "\n",
    "sys.path.append(\"CARLA_SIM/PythonAPI/carla/\")\n",
    "from agents.navigation.basic_agent import BasicAgent\n"
   ]
  },
  {
   "cell_type": "markdown",
   "metadata": {},
   "source": [
    "# Data collection"
   ]
  },
  {
   "cell_type": "code",
   "execution_count": null,
   "metadata": {},
   "outputs": [],
   "source": [
    "import carla\n",
    "from random import random\n",
    "\n",
    "random_rotation = 3 * random() - 1.5\n",
    "mapping = {\n",
    "    'Town01_opt': {\n",
    "        'loc': carla.Location(x=176.589493, y=133.239151, z=0.300000), # 15 spawn point\n",
    "        'rotation': carla.Rotation(0, 0 + random_rotation, 0)\n",
    "    },\n",
    "    'Town02_opt': {\n",
    "        'loc': carla.Location(x=193.779999, y=142.190002, z=0.500000), # 15 spawn point\n",
    "        'rotation': carla.Rotation(0, -90 + random_rotation, 0)\n",
    "    },\n",
    "    'Town03_opt': {\n",
    "        # 'loc': carla.Location(x=-88.710991, y=-119.565231, z=0.275307), # 1 spawn point\n",
    "        # 'rotation': carla.Rotation(0, 90 + random_rotation, 0)\n",
    "        'loc': carla.Location(x=-0.710991, y=-120.565231, z=0.275307), # 1 spawn point\n",
    "        'rotation': carla.Rotation(0, 90 + random_rotation, 0)\n",
    "    },\n",
    "    'Town04_opt': {\n",
    "        'loc': carla.Location(405.320374, -48.450779, 0.281942), #222 spawn point\n",
    "        'rotation': carla.Rotation(0, -90 + random_rotation, 0)\n",
    "    },\n",
    "}\n",
    "print(random_rotation)"
   ]
  },
  {
   "cell_type": "code",
   "execution_count": null,
   "metadata": {},
   "outputs": [],
   "source": [
    "simulator = Simulator(world_name='Town03_opt', dump_data=True, debug=True)"
   ]
  },
  {
   "cell_type": "code",
   "execution_count": null,
   "metadata": {},
   "outputs": [],
   "source": [
    "import time\n",
    "\n",
    "simulator.world.get_spectator()\n",
    "\n",
    "simulator.spawn_car_with_camera(\n",
    "    rel_coordinates=carla.Location(x=1.2, z=1.9), # camera coords\n",
    "    vehicle_coordinates=mapping[simulator.world_name]['loc'],\n",
    "    vehicle_rotation=mapping[simulator.world_name]['rotation'],\n",
    "    image_param=(640,640)\n",
    ")\n",
    "vehicle = simulator.get_vehicle()\n",
    "\n",
    "\n",
    "\n",
    "output_size = 4\n",
    "units = 19\n",
    "device = 'cuda' if torch.cuda.is_available() else 'cpu'\n",
    "print(device)\n",
    "\n",
    "base_model = Model(output_size, units)\n",
    "if not os.path.isdir(f'out/{simulator.world_name}'):\n",
    "    os.mkdir(f'out/{simulator.world_name}')\n",
    "with open(f'out/{simulator.world_name}/data.txt', 'a+') as f:\n",
    "    f.write(f'timestamp start = {time.time()}\\n')\n",
    "agent = NCPAgent(simulator, base_model, target_speed=10)\n",
    "\n",
    "next_waypoint  = [simulator.world.get_map().get_waypoint(vehicle.get_location(),\n",
    "                                                    project_to_road=True,\n",
    "                                                    lane_type=(carla.LaneType.Driving))]\n",
    "\n",
    "waypoints = []\n",
    "dist_between_waypoints = 15\n",
    "waypoint_num = 50\n",
    "for _ in range(waypoint_num):\n",
    "    waypoints.append(next_waypoint[-1])\n",
    "    next_waypoint = next_waypoint[-1].next(dist_between_waypoints)\n",
    "\n",
    "dest_idx = 2\n",
    "dest = waypoints[dest_idx].transform.location\n",
    "agent.set_destination(dest)\n",
    "agent.set_target_speed(10)\n",
    "agent.ignore_traffic_lights(active=True)\n",
    "agent.ignore_stop_signs(active=True)"
   ]
  },
  {
   "cell_type": "code",
   "execution_count": null,
   "metadata": {
    "scrolled": true
   },
   "outputs": [],
   "source": [
    "idx = 1\n",
    "tmp = 0\n",
    "waypoint = waypoints[idx]\n",
    "to_PIL = torchvision.transforms.ToPILImage()\n",
    "\n",
    "while True:\n",
    "    tmp += 1\n",
    "\n",
    "    if (vehicle.get_location().distance(waypoint.transform.location) <= dist_between_waypoints / 4) or \\\n",
    "        (vehicle.get_location().distance(waypoint.transform.location) >= dist_between_waypoints * 2 and \\\n",
    "         vehicle.get_location().distance(waypoint.transform.location) <= dist_between_waypoints * 3):\n",
    "        print(f'Waypoint {idx} was reached')\n",
    "        if idx + 1 >= len(waypoints):\n",
    "            print(\"The target has been reached, stopping the simulation\")\n",
    "            break\n",
    "        waypoint = waypoints[idx + 1]\n",
    "        idx += 1\n",
    "\n",
    "    control, _, raw_data= agent.run_step(dump_data=True)\n",
    "    vehicle.apply_control(control)\n",
    "    if agent.simulator.image_frame is not None:\n",
    "        with open(f'out/{simulator.world_name}/data.txt', 'a+') as f:\n",
    "            f.write(f'{agent.simulator.image_frame} : {control.steer}\\n')\n",
    "\n",
    "    \n",
    "    if agent.done():\n",
    "        if dest_idx < waypoint_num - 1:\n",
    "            dest_idx += 10\n",
    "            dest_idx = min(dest_idx, waypoint_num - 1)\n",
    "            print(f'Intermediate destination reached. Moving to waypoint {dest_idx}')\n",
    "            agent.is_done = False\n",
    "            agent.set_destination(waypoints[dest_idx].transform.location)\n",
    "            continue\n",
    "\n",
    "        print(\"The target has been reached, stopping the simulation\")\n",
    "        break\n",
    "vehicle.apply_control(carla.VehicleControl(throttle = 0.0, brake=1.0, steer = 0.0))"
   ]
  },
  {
   "cell_type": "code",
   "execution_count": null,
   "metadata": {},
   "outputs": [],
   "source": [
    "simulator.destroy_all()"
   ]
  },
  {
   "cell_type": "markdown",
   "metadata": {},
   "source": [
    "# test"
   ]
  },
  {
   "cell_type": "code",
   "execution_count": 11,
   "metadata": {},
   "outputs": [],
   "source": [
    "import carla\n",
    "import numpy as np\n",
    "from src.simulator import Simulator\n",
    "from src.agent import NCPAgent\n",
    "from src.model import Model, DrivingModelModule, CustomDataset\n",
    "\n",
    "from random import uniform, random\n",
    "\n",
    "import torchvision\n",
    "from IPython.display import display\n",
    "import sys\n",
    "import time\n",
    "import torch\n",
    "sys.path.append(\"CARLA_SIM/PythonAPI/carla/\")\n",
    "from agents.navigation.basic_agent import BasicAgent\n"
   ]
  },
  {
   "cell_type": "code",
   "execution_count": 3,
   "metadata": {},
   "outputs": [],
   "source": [
    "def closest_point_on_segment_2d(current_point, line_a, line_b):\n",
    "    ap = np.array([current_point.x - line_a.x, current_point.y - line_a.y])\n",
    "    ab = np.array([line_b.x - line_a.x, line_b.y - line_a.y])\n",
    "    ab_norm_sq = np.dot(ab, ab)\n",
    "\n",
    "    if ab_norm_sq == 0:\n",
    "        return carla.Location(x=line_a.x, y=line_a.y, z=0.0)\n",
    "\n",
    "    t = np.clip(np.dot(ap, ab) / ab_norm_sq, 0, 1)\n",
    "    closest_x = line_a.x + ab[0] * t\n",
    "    closest_y = line_a.y + ab[1] * t\n",
    "    return carla.Location(x=closest_x, y=closest_y, z=0.0)\n",
    "\n",
    "def collect_metrics(sequence_len, checkpoint_name, units, experiment_num):\n",
    "    random_rotation = 3 * random() - 1.5\n",
    "    mapping = {\n",
    "            'Town01_opt': {\n",
    "                'loc': carla.Location(x=176.589493, y=133.239151, z=0.300000), # 15 spawn point\n",
    "                'rotation': carla.Rotation(0, 0 + random_rotation, 0)\n",
    "            },\n",
    "            'Town02_opt': {\n",
    "                'loc': carla.Location(x=193.779999, y=142.190002 + 35, z=0.500000), # 15 spawn point\n",
    "                'rotation': carla.Rotation(0, -90 + random_rotation, 0)\n",
    "            },\n",
    "            'Town03_opt': {\n",
    "                'loc': carla.Location(x=-88.710991, y=-119.565231, z=0.275307), # 1 spawn point\n",
    "                'rotation': carla.Rotation(0, 90 + random_rotation, 0)\n",
    "            },\n",
    "            'Town04_opt': {\n",
    "                'loc': carla.Location(405.320374, -48.450779, 0.281942), #222 spawn point\n",
    "                'rotation': carla.Rotation(0, -90 + random_rotation, 0)\n",
    "            },\n",
    "    }\n",
    "    print(random_rotation)\n",
    "\n",
    "    metrics = {\n",
    "        'MAD' : [],\n",
    "        'MSD' : [],\n",
    "    }\n",
    "\n",
    "    for map_name in ['Town01_opt', 'Town02_opt', 'Town03_opt', 'Town04_opt']:\n",
    "        simulator = Simulator(world_name=map_name,\n",
    "                        debug=False,\n",
    "                        dump_data=False,\n",
    "                        sequence_len=sequence_len)\n",
    "        simulator.spawn_car_with_camera(\n",
    "            rel_coordinates=carla.Location(x=1.2, z=1.9), # camera coords\n",
    "            vehicle_coordinates=mapping[simulator.world_name]['loc'],\n",
    "            vehicle_rotation=mapping[simulator.world_name]['rotation'],\n",
    "            image_param=(640,640)\n",
    "        )\n",
    "\n",
    "        output_size = 4\n",
    "        device = 'cuda' if torch.cuda.is_available() else 'cpu'\n",
    "        print(device)\n",
    "        base_model = Model(output_size, units)\n",
    "        ncp = DrivingModelModule.load_from_checkpoint(checkpoint_name,\n",
    "            model=base_model,\n",
    "            loss_func=torch.nn.L1Loss(),\n",
    "            optimizer_cls=torch.optim.Adam,\n",
    "            optimizer_kwargs={'lr': 0.0001},\n",
    "            stb_weights=[1.0, 0.0, 0.0]\n",
    "        )\n",
    "        ncp.eval()\n",
    "        agent = NCPAgent(simulator, ncp, target_speed=10)\n",
    "        vehicle = simulator.get_vehicle()\n",
    "        next_waypoint  = [simulator.world.get_map().get_waypoint(vehicle.get_location(),\n",
    "                                                            project_to_road=True,\n",
    "                                                            lane_type=(carla.LaneType.Driving))]\n",
    "        waypoints = []\n",
    "        dist_between_waypoints = 15\n",
    "        waypoint_num = 5\n",
    "        for _ in range(waypoint_num):\n",
    "            waypoints.append(next_waypoint[-1])\n",
    "            next_waypoint = next_waypoint[-1].next(dist_between_waypoints)\n",
    "\n",
    "        dest_idx = 2\n",
    "        dest = waypoints[dest_idx].transform.location\n",
    "        agent.set_destination(dest)\n",
    "        agent.set_target_speed(10)\n",
    "        agent.ignore_traffic_lights(active=True)\n",
    "        agent.ignore_stop_signs(active=True)\n",
    "\n",
    "        idx = 1\n",
    "        tmp = 0\n",
    "        waypoint = waypoints[idx]\n",
    "\n",
    "        loc_and_waypoint_map = []\n",
    "        model_control_arr = []\n",
    "        agent_control_arr = []\n",
    "\n",
    "        time.sleep(3)\n",
    "\n",
    "        while True:\n",
    "            tmp += 1\n",
    "            if (vehicle.get_location().distance(waypoint.transform.location) <= dist_between_waypoints / 4) or \\\n",
    "                (vehicle.get_location().distance(waypoint.transform.location) >= dist_between_waypoints * 2 and \\\n",
    "                vehicle.get_location().distance(waypoint.transform.location) <= dist_between_waypoints * 3):\n",
    "                print(f'Waypoint {idx} was reached')\n",
    "                if idx + 1 >= len(waypoints):\n",
    "                    print(\"The target has been reached, stopping the simulation\")\n",
    "                    break\n",
    "                waypoint = waypoints[idx + 1]\n",
    "                idx += 1\n",
    "\n",
    "            control, model_control, raw_data= agent.run_step(dump_data=False)\n",
    "            model_steer = 2 * (model_control[0][-1][0].item() + 70) / 140 - 1 # to [-1;1]\n",
    "            print(control.steer, model_steer)\n",
    "            model_control_arr.append(model_steer)\n",
    "            agent_control_arr.append(control.steer)\n",
    "            \n",
    "            vehicle.apply_control(carla.VehicleControl(throttle=control.throttle,\n",
    "                                                    brake=control.brake,\n",
    "                                                    steer=model_steer))\n",
    "            \n",
    "            loc_and_waypoint_map.append((vehicle.get_location(), idx))\n",
    "            \n",
    "            if agent.done():\n",
    "                if dest_idx < waypoint_num - 1:\n",
    "                    dest_idx += 10\n",
    "                    dest_idx = min(dest_idx, waypoint_num - 1)\n",
    "                    print(f'Intermediate destination reached. Moving to waypoint {dest_idx}')\n",
    "                    agent.is_done = False\n",
    "                    agent.set_destination(waypoints[dest_idx].transform.location)\n",
    "                    continue\n",
    "\n",
    "                print(\"The target has been reached, stopping the simulation\")\n",
    "                break\n",
    "        vehicle.apply_control(carla.VehicleControl(throttle = 0.0, brake=1.0, steer = 0.0))\n",
    "\n",
    "        simulator.destroy_all()\n",
    "        \n",
    "        n_samples = len([i for i in loc_and_waypoint_map if i[1] != 1])\n",
    "\n",
    "        sum_of_eucl_dist = 0\n",
    "        sum_of_sqr_eucl_dist = 0\n",
    "\n",
    "        with open(f\"exp{experiment_num}_{map_name}.csv\", 'a+') as f:\n",
    "            f.write(\"Model_control;Agent_control\\n\")\n",
    "            for i in range(len(agent_control_arr)):\n",
    "                f.write(f\"{model_control_arr[i]};{agent_control_arr[i]}\\n\")\n",
    "\n",
    "        for loc, wp_idx in loc_and_waypoint_map:\n",
    "            if wp_idx == 1:\n",
    "                continue\n",
    "            start = waypoints[wp_idx-1].transform.location\n",
    "            end = waypoints[wp_idx].transform.location\n",
    "            proj_on_center = closest_point_on_segment_2d(loc, start, end)\n",
    "            sum_of_eucl_dist += loc.distance(proj_on_center)\n",
    "            sum_of_sqr_eucl_dist += loc.distance(proj_on_center) ** 2\n",
    "\n",
    "        metrics['MAD'].append(sum_of_eucl_dist / n_samples)\n",
    "        metrics['MSD'].append(sum_of_sqr_eucl_dist / n_samples)\n",
    "        # MAD, MSD\n",
    "    return metrics\n"
   ]
  },
  {
   "cell_type": "code",
   "execution_count": 16,
   "metadata": {},
   "outputs": [],
   "source": [
    "sequence_len = 1\n",
    "units = 512\n",
    "checkpoint_name = f\"model/max_ep_10_units_{units}_seq_{sequence_len}_lr_0.0001/epoch_epoch=09_val_loss=2.90006.ckpt\""
   ]
  },
  {
   "cell_type": "code",
   "execution_count": null,
   "metadata": {},
   "outputs": [],
   "source": [
    "metrics = collect_metrics(sequence_len,checkpoint_name,units,5)"
   ]
  },
  {
   "cell_type": "code",
   "execution_count": 4,
   "metadata": {},
   "outputs": [],
   "source": [
    "sequence_len = 5\n",
    "simulator = Simulator(world_name='Town04_opt',\n",
    "                      debug=False,\n",
    "                      dump_data=False,\n",
    "                      sequence_len=sequence_len)"
   ]
  },
  {
   "cell_type": "code",
   "execution_count": null,
   "metadata": {},
   "outputs": [
    {
     "name": "stdout",
     "output_type": "stream",
     "text": [
      "0\n"
     ]
    }
   ],
   "source": [
    "from random import random\n",
    "random_rotation = 3 * random() - 1.5\n",
    "mapping = {\n",
    "    'Town01_opt': {\n",
    "        'loc': carla.Location(x=176.589493, y=133.239151, z=0.300000), # 15 spawn point\n",
    "        'rotation': carla.Rotation(0, 0 + random_rotation, 0)\n",
    "    },\n",
    "    'Town02_opt': {\n",
    "        'loc': carla.Location(x=193.779999, y=142.190002 + 35, z=0.500000), # 15 spawn point\n",
    "        'rotation': carla.Rotation(0, -90 + random_rotation, 0)\n",
    "    },\n",
    "    'Town03_opt': {\n",
    "        'loc': carla.Location(x=-88.710991, y=-119.565231, z=0.275307), # 1 spawn point\n",
    "        'rotation': carla.Rotation(0, 90 + random_rotation, 0)\n",
    "    },\n",
    "    'Town04_opt': {\n",
    "        'loc': carla.Location(405.320374, -48.450779, 0.281942), #222 spawn point\n",
    "        'rotation': carla.Rotation(0, -90 + random_rotation, 0)\n",
    "    },\n",
    "}\n",
    "print(random_rotation)"
   ]
  },
  {
   "cell_type": "code",
   "execution_count": null,
   "metadata": {},
   "outputs": [
    {
     "name": "stdout",
     "output_type": "stream",
     "text": [
      "cuda\n"
     ]
    }
   ],
   "source": [
    "simulator.spawn_car_with_camera(\n",
    "    rel_coordinates=carla.Location(x=1.2, z=1.9), # camera coords\n",
    "    vehicle_coordinates=mapping[simulator.world_name]['loc'],\n",
    "    vehicle_rotation=mapping[simulator.world_name]['rotation'],\n",
    "    image_param=(640,640)\n",
    ")\n",
    "\n",
    "output_size = 4\n",
    "units = 32\n",
    "device = 'cuda' if torch.cuda.is_available() else 'cpu'\n",
    "print(device)"
   ]
  },
  {
   "cell_type": "code",
   "execution_count": 9,
   "metadata": {},
   "outputs": [],
   "source": [
    "checkpoint_name = f\"model/max_ep_10_units_{units}_seq_{sequence_len}_lr_0.0001/epoch_epoch=09_val_loss=2.89252.ckpt\""
   ]
  },
  {
   "cell_type": "code",
   "execution_count": 12,
   "metadata": {},
   "outputs": [
    {
     "name": "stdout",
     "output_type": "stream",
     "text": [
      "alloc!\n",
      "Camera stream started\n"
     ]
    }
   ],
   "source": [
    "base_model = Model(output_size, units)\n",
    "ncp = DrivingModelModule.load_from_checkpoint(checkpoint_name,\n",
    "    model=base_model,\n",
    "    loss_func=torch.nn.L1Loss(),\n",
    "    optimizer_cls=torch.optim.Adam,\n",
    "    optimizer_kwargs={'lr': 0.0001},\n",
    "    stb_weights=[1.0, 0.0, 0.0]\n",
    ")\n",
    "ncp.eval()\n",
    "agent = NCPAgent(simulator, ncp, target_speed=10)"
   ]
  },
  {
   "cell_type": "code",
   "execution_count": null,
   "metadata": {},
   "outputs": [],
   "source": [
    "vehicle = simulator.get_vehicle()\n",
    "next_waypoint  = [simulator.world.get_map().get_waypoint(vehicle.get_location(),\n",
    "                                                    project_to_road=True,\n",
    "                                                    lane_type=(carla.LaneType.Driving))]\n",
    "waypoints = []\n",
    "dist_between_waypoints = 15\n",
    "waypoint_num = 5\n",
    "for _ in range(waypoint_num):\n",
    "    waypoints.append(next_waypoint[-1])\n",
    "    next_waypoint = next_waypoint[-1].next(dist_between_waypoints)\n",
    "\n",
    "dest_idx = 2\n",
    "dest = waypoints[dest_idx].transform.location\n",
    "agent.set_destination(dest)\n",
    "agent.set_target_speed(10)\n",
    "agent.ignore_traffic_lights(active=True)\n",
    "agent.ignore_stop_signs(active=True)"
   ]
  },
  {
   "cell_type": "code",
   "execution_count": null,
   "metadata": {},
   "outputs": [],
   "source": [
    "idx = 1\n",
    "tmp = 0\n",
    "waypoint = waypoints[idx]\n",
    "\n",
    "loc_and_waypoint_map = []\n",
    "model_control_arr = []\n",
    "agent_control_arr = []\n",
    "\n",
    "while True:\n",
    "    tmp += 1\n",
    "    if (vehicle.get_location().distance(waypoint.transform.location) <= dist_between_waypoints / 4) or \\\n",
    "        (vehicle.get_location().distance(waypoint.transform.location) >= dist_between_waypoints * 2 and \\\n",
    "         vehicle.get_location().distance(waypoint.transform.location) <= dist_between_waypoints * 3):\n",
    "        print(f'Waypoint {idx} was reached')\n",
    "        if idx + 1 >= len(waypoints):\n",
    "            print(\"The target has been reached, stopping the simulation\")\n",
    "            break\n",
    "        waypoint = waypoints[idx + 1]\n",
    "        idx += 1\n",
    "\n",
    "    control, model_control, raw_data= agent.run_step(dump_data=False)\n",
    "    model_steer = 2 * (model_control[0][-1][0].item() + 70) / 140 - 1 # to [-1;1]\n",
    "    print(control.steer, model_steer)\n",
    "    model_control_arr.append(model_steer)\n",
    "    agent_control_arr.append(control.steer)\n",
    "    \n",
    "    vehicle.apply_control(carla.VehicleControl(throttle=control.throttle,\n",
    "                                               brake=control.brake,\n",
    "                                               steer=model_steer))\n",
    "    \n",
    "    loc_and_waypoint_map.append((vehicle.get_location(), idx))\n",
    "    \n",
    "    if agent.done():\n",
    "        if dest_idx < waypoint_num - 1:\n",
    "            dest_idx += 10\n",
    "            dest_idx = min(dest_idx, waypoint_num - 1)\n",
    "            print(f'Intermediate destination reached. Moving to waypoint {dest_idx}')\n",
    "            agent.is_done = False\n",
    "            agent.set_destination(waypoints[dest_idx].transform.location)\n",
    "            continue\n",
    "\n",
    "        print(\"The target has been reached, stopping the simulation\")\n",
    "        break\n",
    "vehicle.apply_control(carla.VehicleControl(throttle = 0.0, brake=1.0, steer = 0.0))"
   ]
  },
  {
   "cell_type": "code",
   "execution_count": null,
   "metadata": {},
   "outputs": [],
   "source": [
    "b = agent.sensors_data_storage.get_sensor_data('camera_front')\n",
    "b[-10][0].shape"
   ]
  },
  {
   "cell_type": "code",
   "execution_count": 15,
   "metadata": {},
   "outputs": [
    {
     "name": "stdout",
     "output_type": "stream",
     "text": [
      "Camera stream stopped\n"
     ]
    }
   ],
   "source": [
    "simulator.destroy_all()"
   ]
  },
  {
   "cell_type": "code",
   "execution_count": null,
   "metadata": {},
   "outputs": [],
   "source": [
    "from torchvision import transforms\n",
    "from PIL import Image\n",
    "import torch\n",
    "\n",
    "to_pil = transforms.ToPILImage()\n",
    "pil_image = to_pil(b[-1][0])\n",
    "pil_image.save('test1.jpg')\n",
    "\n",
    "pil_image = to_pil(b[0][0])\n",
    "pil_image.save('test2.jpg')\n"
   ]
  },
  {
   "cell_type": "code",
   "execution_count": null,
   "metadata": {},
   "outputs": [],
   "source": [
    "with open(\"exp1_t3.csv\", 'a+') as f:\n",
    "    f.write(\"Model_control;Agent_control\\n\")\n",
    "    for i in range(len(agent_control_arr)):\n",
    "        f.write(f\"{model_control_arr[i]};{agent_control_arr[i]}\\n\")"
   ]
  },
  {
   "cell_type": "code",
   "execution_count": null,
   "metadata": {},
   "outputs": [],
   "source": [
    "def closest_point_on_segment_2d(current_point, line_a, line_b):\n",
    "    ap = np.array([current_point.x - line_a.x, current_point.y - line_a.y])\n",
    "    ab = np.array([line_b.x - line_a.x, line_b.y - line_a.y])\n",
    "    ab_norm_sq = np.dot(ab, ab)\n",
    "\n",
    "    if ab_norm_sq == 0:\n",
    "        return carla.Location(x=line_a.x, y=line_a.y, z=0.0)\n",
    "\n",
    "    t = np.clip(np.dot(ap, ab) / ab_norm_sq, 0, 1)\n",
    "    closest_x = line_a.x + ab[0] * t\n",
    "    closest_y = line_a.y + ab[1] * t\n",
    "    return carla.Location(x=closest_x, y=closest_y, z=0.0)"
   ]
  },
  {
   "cell_type": "code",
   "execution_count": null,
   "metadata": {},
   "outputs": [],
   "source": [
    "n_samples = len([i for i in loc_and_waypoint_map if i[1] != 1])\n",
    "\n",
    "sum_of_eucl_dist = 0\n",
    "sum_of_sqr_eucl_dist = 0\n",
    "\n",
    "for loc, wp_idx in loc_and_waypoint_map:\n",
    "    if wp_idx == 1:\n",
    "        continue\n",
    "    start = waypoints[wp_idx-1].transform.location\n",
    "    end = waypoints[wp_idx].transform.location\n",
    "    proj_on_center = closest_point_on_segment_2d(loc, start, end)\n",
    "    sum_of_eucl_dist += loc.distance(proj_on_center)\n",
    "    sum_of_sqr_eucl_dist += loc.distance(proj_on_center) ** 2\n",
    "\n",
    "MAD = sum_of_eucl_dist / n_samples\n",
    "MSD = sum_of_sqr_eucl_dist / n_samples\n",
    "MAD, MSD"
   ]
  }
 ],
 "metadata": {
  "kernelspec": {
   "display_name": "venv",
   "language": "python",
   "name": "python3"
  },
  "language_info": {
   "codemirror_mode": {
    "name": "ipython",
    "version": 3
   },
   "file_extension": ".py",
   "mimetype": "text/x-python",
   "name": "python",
   "nbconvert_exporter": "python",
   "pygments_lexer": "ipython3",
   "version": "3.8.20"
  }
 },
 "nbformat": 4,
 "nbformat_minor": 4
}
