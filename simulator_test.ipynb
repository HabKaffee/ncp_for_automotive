{
 "cells": [
  {
   "cell_type": "markdown",
   "metadata": {},
   "source": [
    "Set up env"
   ]
  },
  {
   "cell_type": "code",
   "execution_count": 1,
   "metadata": {},
   "outputs": [],
   "source": [
    "import carla\n",
    "import numpy as np\n",
    "from src.simulator import Simulator\n",
    "from src.encoder import EncoderResnet18\n",
    "import torch\n",
    "from src.agent import NCPAgent\n",
    "from src.model import Model, SequenceLearner\n",
    "\n",
    "simulator = Simulator(world_name='Town04_opt')\n"
   ]
  },
  {
   "cell_type": "code",
   "execution_count": 2,
   "metadata": {},
   "outputs": [
    {
     "name": "stdout",
     "output_type": "stream",
     "text": [
      "alloc!\n",
      "Camera stream started\n"
     ]
    }
   ],
   "source": [
    "simulator.world.get_spectator().set_transform(\n",
    "    carla.Transform(\n",
    "        location=carla.Location(x=398.7934265136719,\n",
    "                                y=-56.03200912475586,\n",
    "                                z=3.37939715385437)))\n",
    "\n",
    "simulator.spawn_car_with_camera(\n",
    "    rel_coordinates=carla.Location(x=1.2, z=1.9) # camera coords\n",
    ")\n",
    "vehicle = simulator.get_vehicle()\n",
    "\n",
    "\n",
    "output_size = 2\n",
    "units = 512\n",
    "\n",
    "ncp = Model(output_size, units)\n",
    "\n",
    "agent = NCPAgent(simulator, ncp)\n",
    "\n",
    "next_waypoint  = [simulator.world.get_map().get_waypoint(vehicle.get_location(),\n",
    "                                                    project_to_road=True,\n",
    "                                                    lane_type=(carla.LaneType.Driving))]\n",
    "\n",
    "waypoints = []\n",
    "for _ in range(150):\n",
    "    # print(next_waypoint[-1].transform)\n",
    "    waypoints.append(next_waypoint[-1])\n",
    "    # simulator.world.get_spectator().set_transform(next_waypoint[-1].transform)\n",
    "    next_waypoint = next_waypoint[-1].next(15)\n",
    "\n",
    "dest = waypoints[3].transform.location\n",
    "agent.set_destination(dest)\n",
    "agent.set_target_speed(10)"
   ]
  },
  {
   "cell_type": "code",
   "execution_count": 3,
   "metadata": {},
   "outputs": [],
   "source": [
    "seq_learner = SequenceLearner(ncp, 0.005)"
   ]
  },
  {
   "cell_type": "code",
   "execution_count": null,
   "metadata": {},
   "outputs": [],
   "source": [
    "simulator.world.get_spectator().set_transform(waypoints[1].transform)"
   ]
  },
  {
   "cell_type": "code",
   "execution_count": 4,
   "metadata": {},
   "outputs": [
    {
     "name": "stdout",
     "output_type": "stream",
     "text": [
      "tensor([-0.1173, -0.0367], grad_fn=<SelectBackward0>)\n",
      "Angle_cos = 0.9999924240024108\n",
      "Angle in rad = 0.0038925588383827256\n",
      "Angle in deg = 0.22302719294567652\n",
      "Steering angle = 0.0031861027563668074\n",
      "tensor([-0.1172, -0.0367], grad_fn=<SelectBackward0>)\n",
      "Angle_cos = 0.9999963021984737\n",
      "Angle in rad = 0.002719486644671292\n",
      "Angle in deg = 0.15581510718185843\n",
      "Steering angle = 0.0022259301025979775\n",
      "tensor([-0.1171, -0.0366], grad_fn=<SelectBackward0>)\n",
      "Angle_cos = 0.9999903806073599\n",
      "Angle in rad = 0.004386207487628019\n",
      "Angle in deg = 0.25131117710976575\n",
      "Steering angle = 0.0035901596729966535\n",
      "tensor([-0.1172, -0.0365], grad_fn=<SelectBackward0>)\n",
      "Angle_cos = 0.9999184125035606\n",
      "Angle in rad = 0.012774083597929895\n",
      "Angle in deg = 0.7319010773086727\n",
      "Steering angle = 0.010455729675838181\n",
      "tensor([-0.1173, -0.0371], grad_fn=<SelectBackward0>)\n",
      "Angle_cos = 0.9865031619477628\n",
      "Angle in rad = 0.16448287798226544\n",
      "Angle in deg = 9.424174710549103\n",
      "Steering angle = 0.13463106729355862\n",
      "tensor([-0.1172, -0.0366], grad_fn=<SelectBackward0>)\n",
      "Angle_cos = -0.9984381843729151\n",
      "Angle in rad = 3.085695921285214\n",
      "Angle in deg = 176.79735315037507\n",
      "Steering angle = -1.2399621878625011\n",
      "tensor([-0.1174, -0.0365], grad_fn=<SelectBackward0>)\n",
      "Angle_cos = -0.9858061474391981\n",
      "Angle in rad = 2.972906211866082\n",
      "Angle in deg = 170.33497882815183\n",
      "Steering angle = -1.1476425546878832\n",
      "tensor([-0.1173, -0.0366], grad_fn=<SelectBackward0>)\n",
      "Angle_cos = 0.28671330339101003\n",
      "Angle in rad = 1.280001989779561\n",
      "Angle in deg = 73.33871178271637\n",
      "Steering angle = 1.0476958826102338\n",
      "tensor([-0.1173, -0.0367], grad_fn=<SelectBackward0>)\n",
      "Angle_cos = 0.5849324640775552\n",
      "Angle in rad = 0.945999537988283\n",
      "Angle in deg = 54.201780948054406\n",
      "Steering angle = 0.7743111564007772\n",
      "tensor([-0.1173, -0.0365], grad_fn=<SelectBackward0>)\n",
      "Angle_cos = -0.32643383902777245\n",
      "Angle in rad = 1.9033245950707984\n",
      "Angle in deg = 109.05246634100315\n",
      "Steering angle = -0.2721780905857593\n"
     ]
    }
   ],
   "source": [
    "import time\n",
    "vehicle.apply_control(carla.VehicleControl(throttle=0.6, steer = 0.0))\n",
    "waypoint = waypoints[1]\n",
    "\n",
    "while True:\n",
    "    time.sleep(1)\n",
    "    if (np.abs(vehicle.get_location().x - waypoint.transform.location.x)) < 1 and \\\n",
    "        (np.abs(vehicle.get_location().y - waypoint.transform.location.y)) < 1:\n",
    "        waypoint = waypoint.next(15)[0]\n",
    "    # print(waypoint.transform.location)\n",
    "    control, collided, true_angle, raw_data = agent.run_step(vehicle.get_location(), waypoint.transform.location)\n",
    "    # print(seq_learner.training_step(raw_data, true_angle))\n",
    "    if agent.done():\n",
    "        print(\"The target has been reached, stopping the simulation\")\n",
    "        break\n",
    "    if collided == True:\n",
    "        vehicle.apply_control(carla.VehicleControl(throttle = 0.0, brake=1.0, steer = 0.0))\n",
    "        break\n",
    "\n",
    "    vehicle.apply_control(carla.VehicleControl(throttle = 0.55, brake=0.0, steer = true_angle.item()))\n",
    "        # print(\"Collision detected. Abort\")\n",
    "        # break\n",
    "    # vehicle.apply_control(control)\n",
    "    # time.sleep(0.5)"
   ]
  },
  {
   "cell_type": "code",
   "execution_count": null,
   "metadata": {},
   "outputs": [],
   "source": [
    "simulator.destroy_all()"
   ]
  },
  {
   "cell_type": "code",
   "execution_count": null,
   "metadata": {},
   "outputs": [],
   "source": [
    "# import torch\n",
    "# import torch.nn as nn\n",
    "# import torchvision\n",
    "# from torchvision import models, transforms, utils\n",
    "# from torch.autograd import Variable\n",
    "# import numpy as np\n",
    "# import matplotlib.pyplot as plt\n",
    "# import scipy.misc\n",
    "# from PIL import Image\n",
    "# import json\n",
    "\n",
    "# transform = transforms.Compose([\n",
    "#     transforms.Resize((224, 224)),\n",
    "#     transforms.ToTensor(),\n",
    "#     transforms.Normalize(mean=0., std=1.)\n",
    "# ])\n",
    "\n",
    "# image = Image.open(str('out/636.png'))\n",
    "# plt.imshow(image)"
   ]
  },
  {
   "cell_type": "code",
   "execution_count": null,
   "metadata": {},
   "outputs": [],
   "source": [
    "# from src.encoder import EncoderResnet18\n",
    "# enc = EncoderResnet18()\n",
    "# model = enc.model"
   ]
  },
  {
   "cell_type": "code",
   "execution_count": null,
   "metadata": {},
   "outputs": [],
   "source": [
    "# # we will save the conv layer weights in this list\n",
    "# model_weights =[]\n",
    "# #we will save the 49 conv layers in this list\n",
    "# conv_layers = []\n",
    "# # get all the model children as list\n",
    "# model_children = list(model.children())\n",
    "# #counter to keep count of the conv layers\n",
    "# counter = 0\n",
    "# #append all the conv layers and their respective wights to the list\n",
    "# for i in range(len(model_children)):\n",
    "#     if type(model_children[i]) == nn.Conv2d:\n",
    "#         counter+=1\n",
    "#         model_weights.append(model_children[i].weight)\n",
    "#         conv_layers.append(model_children[i])\n",
    "#     elif type(model_children[i]) == nn.Sequential:\n",
    "#         for j in range(len(model_children[i])):\n",
    "#             for child in model_children[i][j].children():\n",
    "#                 if type(child) == nn.Conv2d:\n",
    "#                     counter+=1\n",
    "#                     model_weights.append(child.weight)\n",
    "#                     conv_layers.append(child)\n",
    "# print(f\"Total convolution layers: {counter}\")\n",
    "# print(f\"{conv_layers}\")"
   ]
  },
  {
   "cell_type": "code",
   "execution_count": null,
   "metadata": {},
   "outputs": [],
   "source": [
    "device = torch.device('cuda' if torch.cuda.is_available() else 'cpu')\n",
    "model = model.to(device)"
   ]
  },
  {
   "cell_type": "code",
   "execution_count": null,
   "metadata": {},
   "outputs": [],
   "source": [
    "# image = transform(image)\n",
    "# image = image[:3,:,:]\n",
    "# print(f\"Image shape before: {image.shape}\")\n",
    "# image = image.unsqueeze(0)\n",
    "# print(f\"Image shape after: {image.shape}\")\n",
    "# image = image.to(device)"
   ]
  },
  {
   "cell_type": "code",
   "execution_count": null,
   "metadata": {},
   "outputs": [],
   "source": [
    "# outputs = []\n",
    "# names = []\n",
    "# for layer in conv_layers[0:]:\n",
    "#     image = layer(image)\n",
    "#     outputs.append(image)\n",
    "#     names.append(str(layer))\n",
    "# print(len(outputs))\n",
    "# # print feature_maps\n",
    "# for feature_map in outputs:\n",
    "#     print(feature_map.shape)"
   ]
  },
  {
   "cell_type": "code",
   "execution_count": null,
   "metadata": {},
   "outputs": [],
   "source": [
    "# processed = []\n",
    "# for feature_map in outputs:\n",
    "#     feature_map = feature_map.squeeze(0)\n",
    "#     gray_scale = torch.sum(feature_map,0)\n",
    "#     gray_scale = gray_scale / feature_map.shape[0]\n",
    "#     processed.append(gray_scale.data.cpu().numpy())\n",
    "# for fm in processed:\n",
    "#     print(fm.shape)\n"
   ]
  },
  {
   "cell_type": "code",
   "execution_count": null,
   "metadata": {},
   "outputs": [],
   "source": [
    "# fig = plt.figure(figsize=(30, 50))\n",
    "# for i in range(len(processed)):\n",
    "#     a = fig.add_subplot(5, 4, i+1)\n",
    "#     imgplot = plt.imshow(processed[i])\n",
    "#     a.axis(\"off\")\n",
    "#     a.set_title(names[i].split('(')[0], fontsize=30)\n",
    "# plt.savefig(str('feature_maps.jpg'), bbox_inches='tight')\n"
   ]
  },
  {
   "cell_type": "code",
   "execution_count": null,
   "metadata": {},
   "outputs": [],
   "source": [
    "# import torch\n",
    "# import torch.nn as nn\n",
    "# import pytorch_lightning as pl\n",
    "# import torch.utils.data as data\n",
    "\n",
    "# from src.model import SequenceLearner, NCP\n",
    "\n",
    "# ncp = NCP(image_features.shape[1], output_size, units)\n",
    "# ncp_model = ncp.get_ncp()\n",
    "# learner = SequenceLearner(ncp_model, lr=0.01)\n",
    "# trainer = pl.Trainer(\n",
    "#     logger=pl.loggers.CSVLogger(\"log\"),\n",
    "#     max_epochs=5,\n",
    "#     gradient_clip_val=1, #clip grad for training stabilizing\n",
    "# )"
   ]
  },
  {
   "cell_type": "markdown",
   "metadata": {},
   "source": [
    "Agent test"
   ]
  },
  {
   "cell_type": "code",
   "execution_count": null,
   "metadata": {},
   "outputs": [],
   "source": [
    "import glob, os, sys\n",
    "# sys.path.append(glob.glob('CARLA_SIM/PythonAPI/carla/'))\n",
    "sys.path.append(\"CARLA_SIM/PythonAPI/carla/\")\n",
    "from agents.navigation.basic_agent import BasicAgent\n",
    "# from agents.navigation.behavior_agent import BehaviorAgent"
   ]
  },
  {
   "cell_type": "code",
   "execution_count": null,
   "metadata": {},
   "outputs": [],
   "source": [
    "simulator.spawn_car_with_camera()"
   ]
  },
  {
   "cell_type": "code",
   "execution_count": null,
   "metadata": {},
   "outputs": [],
   "source": [
    "vehicle = simulator.get_vehicle()"
   ]
  },
  {
   "cell_type": "code",
   "execution_count": null,
   "metadata": {},
   "outputs": [],
   "source": [
    "# agent = BehaviorAgent(vehicle, behavior='aggressive')\n",
    "agent = BasicAgent(vehicle)\n",
    "dest = simulator.spawn_points[50].location\n",
    "agent.set_destination(dest)\n",
    "agent.follow_speed_limits(False)\n",
    "agent.set_target_speed(90)"
   ]
  },
  {
   "cell_type": "code",
   "execution_count": null,
   "metadata": {},
   "outputs": [],
   "source": [
    "import time\n",
    "while True:\n",
    "    if agent.done():\n",
    "        print(\"The target has been reached, stopping the simulation\")\n",
    "        break\n",
    "    # if collided == True:\n",
    "    #     vehicle.apply_control(carla.VehicleControl(throttle = 0.0, brake=1.0, steer = 0.0))\n",
    "    #     print(\"Collision detected. Abort\")\n",
    "    #     break\n",
    "\n",
    "    vehicle.apply_control(agent.run_step())\n",
    "    # time.sleep(0.5)"
   ]
  },
  {
   "cell_type": "code",
   "execution_count": null,
   "metadata": {},
   "outputs": [],
   "source": [
    "simulator.destroy_all()"
   ]
  },
  {
   "cell_type": "code",
   "execution_count": null,
   "metadata": {},
   "outputs": [],
   "source": []
  }
 ],
 "metadata": {
  "kernelspec": {
   "display_name": "venv",
   "language": "python",
   "name": "python3"
  },
  "language_info": {
   "codemirror_mode": {
    "name": "ipython",
    "version": 3
   },
   "file_extension": ".py",
   "mimetype": "text/x-python",
   "name": "python",
   "nbconvert_exporter": "python",
   "pygments_lexer": "ipython3",
   "version": "3.8.19"
  }
 },
 "nbformat": 4,
 "nbformat_minor": 2
}
