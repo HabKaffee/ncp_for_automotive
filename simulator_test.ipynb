{
 "cells": [
  {
   "cell_type": "markdown",
   "metadata": {},
   "source": [
    "Set up env"
   ]
  },
  {
   "cell_type": "code",
   "execution_count": null,
   "metadata": {},
   "outputs": [],
   "source": [
    "import carla\n",
    "import numpy as np\n",
    "from src.simulator import Simulator\n",
    "from src.agent import NCPAgent\n",
    "from src.model import Model, Trainer\n",
    "\n",
    "import torchvision\n",
    "from IPython.display import display\n",
    "import sys\n",
    "import os\n",
    "import torch\n",
    "sys.path.append(\"CARLA_SIM/PythonAPI/carla/\")\n",
    "from agents.navigation.basic_agent import BasicAgent\n"
   ]
  },
  {
   "cell_type": "markdown",
   "metadata": {},
   "source": [
    "# Training process"
   ]
  },
  {
   "cell_type": "code",
   "execution_count": null,
   "metadata": {},
   "outputs": [],
   "source": [
    "from src.model import Model, Trainer"
   ]
  },
  {
   "cell_type": "code",
   "execution_count": null,
   "metadata": {},
   "outputs": [],
   "source": [
    "simulator = Simulator(world_name='Town03_opt')"
   ]
  },
  {
   "cell_type": "code",
   "execution_count": null,
   "metadata": {},
   "outputs": [],
   "source": [
    "# import time\n",
    "\n",
    "# simulator.world.get_spectator().set_transform(\n",
    "#     carla.Transform(\n",
    "#         location=carla.Location(x=398.7934265136719,\n",
    "#                                 y=-56.03200912475586,\n",
    "#                                 z=3.37939715385437)))\n",
    "\n",
    "# simulator.spawn_car_with_camera(\n",
    "#     rel_coordinates=carla.Location(x=1.2, z=1.9) # camera coords\n",
    "# )\n",
    "# vehicle = simulator.get_vehicle()\n",
    "\n",
    "\n",
    "# output_size = 1\n",
    "# units = 19\n",
    "# device = 'cuda' if torch.cuda.is_available() else 'cpu'\n",
    "# print(device)\n",
    "\n",
    "# ncp = Model(output_size, units)\n",
    "# ncp.to(device)\n",
    "# if not os.path.isdir(f'out/{simulator.world_name}'):\n",
    "#     os.mkdir(f'out/{simulator.world_name}')\n",
    "# with open(f'out/{simulator.world_name}/data.txt', 'a+') as f:\n",
    "#     f.write(f'timestamp start = {time.time()}\\n')\n",
    "# agent = NCPAgent(simulator, ncp, target_speed=10)\n",
    "\n",
    "# next_waypoint  = [simulator.world.get_map().get_waypoint(vehicle.get_location(),\n",
    "#                                                     project_to_road=True,\n",
    "#                                                     lane_type=(carla.LaneType.Driving))]\n",
    "\n",
    "# waypoints = []\n",
    "# dist_between_waypoints = 20\n",
    "# waypoint_num = 350\n",
    "# # waypoint_num = 10\n",
    "# for _ in range(waypoint_num):\n",
    "#     waypoints.append(next_waypoint[-1])\n",
    "#     # simulator.world.get_spectator().set_transform(next_waypoint[-1].transform)\n",
    "#     next_waypoint = next_waypoint[-1].next(dist_between_waypoints)\n",
    "\n",
    "# dest_idx = 2\n",
    "# dest = waypoints[dest_idx].transform.location\n",
    "# agent.set_destination(dest)\n",
    "# agent.set_target_speed(10)"
   ]
  },
  {
   "cell_type": "code",
   "execution_count": null,
   "metadata": {},
   "outputs": [],
   "source": [
    "# # os.rmdir('./out/')\n",
    "\n",
    "# idx = 1\n",
    "# waypoint = waypoints[idx]\n",
    "# to_PIL = torchvision.transforms.ToPILImage()\n",
    "\n",
    "# loss_func = torch.nn.functional.mse_loss\n",
    "# optimizer = torch.optim.Adam(ncp.parameters(), lr=0.001)\n",
    "\n",
    "# # basic_agent = BasicAgent(vehicle=vehicle)\n",
    "# trainer = Trainer(ncp, loss_func, optimizer)\n",
    "\n",
    "# while True:\n",
    "#     # if vehicle.get_location().distance(dest) < 0.5:\n",
    "#     #     print(f\"Destination reached\")\n",
    "#     #     break\n",
    "#     # if (vehicle.get_location().distance(waypoint.transform.location) <= dist_between_waypoints / 4) or \\\n",
    "#     #     (vehicle.get_location().distance(waypoint.transform.location) >= dist_between_waypoints * 2 and \\\n",
    "#     #      vehicle.get_location().distance(waypoint.transform.location) <= dist_between_waypoints * 3):\n",
    "#     #     print(f'Waypoint {idx} was reached')\n",
    "#     #     waypoint = waypoints[idx + 1]\n",
    "#     #     idx += 1\n",
    "    \n",
    "#     control, movement, raw_data, out_tensor = agent.run_step()\n",
    "#     # if raw_data is not None:\n",
    "#     #     trainer.train(raw_data, torch.tensor(control.steer))\n",
    "#     #     print(out_tensor)\n",
    "#     vehicle.apply_control(control)\n",
    "#     if agent.simulator.image_frame is not None:\n",
    "#         with open(f'out/{simulator.world_name}/data.txt', 'a+') as f:\n",
    "#             f.write(f'{agent.simulator.image_frame} : {control.steer}\\n')\n",
    "\n",
    "    \n",
    "#     if agent.done():\n",
    "#         if dest_idx < waypoint_num - 1:\n",
    "#             dest_idx += 10\n",
    "#             dest_idx = min(dest_idx, waypoint_num - 1)\n",
    "#             print(f'Intermediate destination reached. Moving to waypoint {dest_idx}')\n",
    "#             agent.is_done = False\n",
    "#             agent.set_destination(waypoints[dest_idx].transform.location)\n",
    "#             continue\n",
    "\n",
    "#         print(\"The target has been reached, stopping the simulation\")\n",
    "#         break\n",
    "# vehicle.apply_control(carla.VehicleControl(throttle = 0.0, brake=1.0, steer = 0.0))"
   ]
  },
  {
   "cell_type": "code",
   "execution_count": null,
   "metadata": {},
   "outputs": [],
   "source": [
    "# simulator.destroy_all()"
   ]
  },
  {
   "cell_type": "code",
   "execution_count": null,
   "metadata": {},
   "outputs": [],
   "source": [
    "# ncp.save_model(f'./model/pretrained_wp{waypoint_num}.pth')"
   ]
  },
  {
   "cell_type": "markdown",
   "metadata": {},
   "source": [
    "# test"
   ]
  },
  {
   "cell_type": "code",
   "execution_count": null,
   "metadata": {},
   "outputs": [],
   "source": [
    "# ncp.load_state_dict(torch.load(f'model/pretrained_wp{waypoint_num}.pth'))"
   ]
  },
  {
   "cell_type": "code",
   "execution_count": null,
   "metadata": {},
   "outputs": [],
   "source": [
    "# print(ncp)"
   ]
  },
  {
   "cell_type": "code",
   "execution_count": null,
   "metadata": {},
   "outputs": [],
   "source": [
    "# ncp.eval()"
   ]
  },
  {
   "cell_type": "code",
   "execution_count": null,
   "metadata": {},
   "outputs": [],
   "source": [
    "# next_waypoint  = [simulator.world.get_map().get_waypoint(vehicle.get_location(),\n",
    "#                                                     project_to_road=True,\n",
    "#                                                     lane_type=(carla.LaneType.Driving))]\n",
    "\n",
    "# waypoints = []\n",
    "# dist_between_waypoints = 20\n",
    "# waypoint_num = 5\n",
    "# for _ in range(waypoint_num):\n",
    "#     waypoints.append(next_waypoint[-1])\n",
    "#     # simulator.world.get_spectator().set_transform(next_waypoint[-1].transform)\n",
    "#     next_waypoint = next_waypoint[-1].next(dist_between_waypoints)\n",
    "\n",
    "# dest_idx = 2\n",
    "# dest = waypoints[dest_idx].transform.location\n",
    "# agent.set_destination(dest)\n",
    "# agent.set_target_speed(10)"
   ]
  },
  {
   "cell_type": "code",
   "execution_count": null,
   "metadata": {},
   "outputs": [],
   "source": [
    "# idx = 1\n",
    "# waypoint = waypoints[idx]\n",
    "# to_PIL = torchvision.transforms.ToPILImage()\n",
    "\n",
    "# loss_func = torch.nn.functional.mse_loss\n",
    "# optimizer = torch.optim.Adam(ncp.parameters(), lr=0.001)\n",
    "\n",
    "# # basic_agent = BasicAgent(vehicle=vehicle)\n",
    "# # trainer = Trainer(ncp, loss_func, optimizer)\n",
    "\n",
    "# while True:\n",
    "#     # if vehicle.get_location().distance(dest) < 0.5:\n",
    "#     #     print(f\"Destination reached\")\n",
    "#     #     break\n",
    "#     # if (vehicle.get_location().distance(waypoint.transform.location) <= dist_between_waypoints / 4) or \\\n",
    "#     #     (vehicle.get_location().distance(waypoint.transform.location) >= dist_between_waypoints * 2 and \\\n",
    "#     #      vehicle.get_location().distance(waypoint.transform.location) <= dist_between_waypoints * 3):\n",
    "#     #     print(f'Waypoint {idx} was reached')\n",
    "#     #     waypoint = waypoints[idx + 1]\n",
    "#     #     idx += 1\n",
    "    \n",
    "#     control, movement, raw_data, out_tensor = agent.run_step()\n",
    "#     # trainer.train(raw_data, torch.tensor(control.steer))\n",
    "#     print(control.steer, movement.item(), out_tensor)\n",
    "#     new_control = carla.VehicleControl(steer=movement.item(), throttle=control.throttle, brake=control.brake)\n",
    "#     vehicle.apply_control(new_control)\n",
    "    \n",
    "#     if agent.done():\n",
    "#         if dest_idx < waypoint_num - 1:\n",
    "#             dest_idx += 10\n",
    "#             dest_idx = min(dest_idx, waypoint_num - 1)\n",
    "#             print(f'Intermediate destination reached. Moving to waypoint {dest_idx}')\n",
    "#             agent.is_done = False\n",
    "#             agent.set_destination(waypoints[dest_idx].transform.location)\n",
    "#             continue\n",
    "\n",
    "#         print(\"The target has been reached, stopping the simulation\")\n",
    "#         break\n",
    "# vehicle.apply_control(carla.VehicleControl(throttle = 0.0, brake=1.0, steer = 0.0))"
   ]
  },
  {
   "cell_type": "code",
   "execution_count": null,
   "metadata": {},
   "outputs": [],
   "source": [
    "# simulator.destroy_all()"
   ]
  },
  {
   "cell_type": "code",
   "execution_count": null,
   "metadata": {},
   "outputs": [],
   "source": [
    "# # we will save the conv layer weights in this list\n",
    "# model_weights =[]\n",
    "# #we will save the 49 conv layers in this list\n",
    "# conv_layers = []\n",
    "# # get all the model children as list\n",
    "# model_children = list(model.children())\n",
    "# #counter to keep count of the conv layers\n",
    "# counter = 0\n",
    "# #append all the conv layers and their respective wights to the list\n",
    "# for i in range(len(model_children)):\n",
    "#     if type(model_children[i]) == nn.Conv2d:\n",
    "#         counter+=1\n",
    "#         model_weights.append(model_children[i].weight)\n",
    "#         conv_layers.append(model_children[i])\n",
    "#     elif type(model_children[i]) == nn.Sequential:\n",
    "#         for j in range(len(model_children[i])):\n",
    "#             for child in model_children[i][j].children():\n",
    "#                 if type(child) == nn.Conv2d:\n",
    "#                     counter+=1\n",
    "#                     model_weights.append(child.weight)\n",
    "#                     conv_layers.append(child)\n",
    "# print(f\"Total convolution layers: {counter}\")\n",
    "# print(f\"{conv_layers}\")"
   ]
  },
  {
   "cell_type": "code",
   "execution_count": null,
   "metadata": {},
   "outputs": [],
   "source": [
    "# device = torch.device('cuda' if torch.cuda.is_available() else 'cpu')\n",
    "# model = model.to(device)"
   ]
  },
  {
   "cell_type": "code",
   "execution_count": null,
   "metadata": {},
   "outputs": [],
   "source": [
    "# image = transform(image)\n",
    "# image = image[:3,:,:]\n",
    "# print(f\"Image shape before: {image.shape}\")\n",
    "# image = image.unsqueeze(0)\n",
    "# print(f\"Image shape after: {image.shape}\")\n",
    "# image = image.to(device)"
   ]
  },
  {
   "cell_type": "code",
   "execution_count": null,
   "metadata": {},
   "outputs": [],
   "source": [
    "# outputs = []\n",
    "# names = []\n",
    "# for layer in conv_layers[0:]:\n",
    "#     image = layer(image)\n",
    "#     outputs.append(image)\n",
    "#     names.append(str(layer))\n",
    "# print(len(outputs))\n",
    "# # print feature_maps\n",
    "# for feature_map in outputs:\n",
    "#     print(feature_map.shape)"
   ]
  },
  {
   "cell_type": "code",
   "execution_count": null,
   "metadata": {},
   "outputs": [],
   "source": [
    "# processed = []\n",
    "# for feature_map in outputs:\n",
    "#     feature_map = feature_map.squeeze(0)\n",
    "#     gray_scale = torch.sum(feature_map,0)\n",
    "#     gray_scale = gray_scale / feature_map.shape[0]\n",
    "#     processed.append(gray_scale.data.cpu().numpy())\n",
    "# for fm in processed:\n",
    "#     print(fm.shape)\n"
   ]
  },
  {
   "cell_type": "code",
   "execution_count": null,
   "metadata": {},
   "outputs": [],
   "source": [
    "# fig = plt.figure(figsize=(30, 50))\n",
    "# for i in range(len(processed)):\n",
    "#     a = fig.add_subplot(5, 4, i+1)\n",
    "#     imgplot = plt.imshow(processed[i])\n",
    "#     a.axis(\"off\")\n",
    "#     a.set_title(names[i].split('(')[0], fontsize=30)\n",
    "# plt.savefig(str('feature_maps.jpg'), bbox_inches='tight')\n"
   ]
  },
  {
   "cell_type": "code",
   "execution_count": null,
   "metadata": {},
   "outputs": [],
   "source": [
    "# import torch\n",
    "# import torch.nn as nn\n",
    "# import pytorch_lightning as pl\n",
    "# import torch.utils.data as data\n",
    "\n",
    "# from src.model import SequenceLearner, NCP\n",
    "\n",
    "# ncp = NCP(image_features.shape[1], output_size, units)\n",
    "# ncp_model = ncp.get_ncp()\n",
    "# learner = SequenceLearner(ncp_model, lr=0.01)\n",
    "# trainer = pl.Trainer(\n",
    "#     logger=pl.loggers.CSVLogger(\"log\"),\n",
    "#     max_epochs=5,\n",
    "#     gradient_clip_val=1, #clip grad for training stabilizing\n",
    "# )"
   ]
  },
  {
   "cell_type": "markdown",
   "metadata": {},
   "source": [
    "Agent test"
   ]
  },
  {
   "cell_type": "code",
   "execution_count": null,
   "metadata": {},
   "outputs": [],
   "source": [
    "# import glob, os, sys\n",
    "# # sys.path.append(glob.glob('CARLA_SIM/PythonAPI/carla/'))\n",
    "# sys.path.append(\"CARLA_SIM/PythonAPI/carla/\")\n",
    "# from agents.navigation.basic_agent import BasicAgent\n",
    "# # from agents.navigation.behavior_agent import BehaviorAgent"
   ]
  },
  {
   "cell_type": "code",
   "execution_count": null,
   "metadata": {},
   "outputs": [],
   "source": [
    "# simulator.spawn_car_with_camera()"
   ]
  },
  {
   "cell_type": "code",
   "execution_count": null,
   "metadata": {},
   "outputs": [],
   "source": [
    "# vehicle = simulator.get_vehicle()"
   ]
  },
  {
   "cell_type": "code",
   "execution_count": null,
   "metadata": {},
   "outputs": [],
   "source": [
    "# # agent = BehaviorAgent(vehicle, behavior='aggressive')\n",
    "# agent = BasicAgent(vehicle)\n",
    "# dest = simulator.spawn_points[50].location\n",
    "# agent.set_destination(dest)\n",
    "# agent.follow_speed_limits(False)\n",
    "# agent.set_target_speed(90)"
   ]
  },
  {
   "cell_type": "code",
   "execution_count": null,
   "metadata": {},
   "outputs": [],
   "source": [
    "# import time\n",
    "# while True:\n",
    "#     if agent.done():\n",
    "#         print(\"The target has been reached, stopping the simulation\")\n",
    "#         break\n",
    "#     # if collided == True:\n",
    "#     #     vehicle.apply_control(carla.VehicleControl(throttle = 0.0, brake=1.0, steer = 0.0))\n",
    "#     #     print(\"Collision detected. Abort\")\n",
    "#     #     break\n",
    "\n",
    "#     vehicle.apply_control(agent.run_step())\n",
    "#     # time.sleep(0.5)"
   ]
  },
  {
   "cell_type": "code",
   "execution_count": null,
   "metadata": {},
   "outputs": [],
   "source": [
    "# simulator.destroy_all()"
   ]
  },
  {
   "cell_type": "code",
   "execution_count": null,
   "metadata": {},
   "outputs": [],
   "source": [
    "from src.model import TrainingDataset\n",
    "\n",
    "td = TrainingDataset(annotations_file='out/Town01_opt/data.txt',\n",
    "                     img_dir='out/Town01_opt')\n",
    "# photos = td.labels[0].unique()\n",
    "# photo_and_angle = {}\n",
    "# for photo in photos:\n",
    "#     td.labels.sum()"
   ]
  },
  {
   "cell_type": "code",
   "execution_count": null,
   "metadata": {},
   "outputs": [],
   "source": [
    "from src.model import Trainer, Model\n",
    "import torch\n",
    "\n",
    "ncp = Model(4, 19)\n",
    "loss_func = torch.nn.functional.mse_loss\n",
    "optimizer = torch.optim.Adam(ncp.parameters(), lr=0.001)\n",
    "\n",
    "tr = Trainer(model=ncp,\n",
    "             loss_func=loss_func,\n",
    "             optimizer=optimizer,\n",
    "             annotations_file='out/Town01_opt/data.txt',\n",
    "             img_dir='out/Town01_opt',\n",
    "             test_size=0.3)"
   ]
  },
  {
   "cell_type": "code",
   "execution_count": null,
   "metadata": {},
   "outputs": [],
   "source": [
    "tr.train(epochs=1, batch_size=1)"
   ]
  },
  {
   "cell_type": "code",
   "execution_count": null,
   "metadata": {},
   "outputs": [],
   "source": []
  }
 ],
 "metadata": {
  "kernelspec": {
   "display_name": "Python 3 (ipykernel)",
   "language": "python",
   "name": "python3"
  },
  "language_info": {
   "codemirror_mode": {
    "name": "ipython",
    "version": 3
   },
   "file_extension": ".py",
   "mimetype": "text/x-python",
   "name": "python",
   "nbconvert_exporter": "python",
   "pygments_lexer": "ipython3",
   "version": "3.8.19"
  }
 },
 "nbformat": 4,
 "nbformat_minor": 4
}
